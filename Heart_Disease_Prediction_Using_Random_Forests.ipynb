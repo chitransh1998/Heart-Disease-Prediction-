{
  "cells": [
    {
      "cell_type": "markdown",
      "metadata": {
        "id": "view-in-github",
        "colab_type": "text"
      },
      "source": [
        "<a href=\"https://colab.research.google.com/github/chitransh1998/Heart-Disease-Prediction-/blob/main/Heart_Disease_Prediction_Using_Random_Forests.ipynb\" target=\"_parent\"><img src=\"https://colab.research.google.com/assets/colab-badge.svg\" alt=\"Open In Colab\"/></a>"
      ]
    },
    {
      "cell_type": "markdown",
      "metadata": {
        "id": "3hH63r9qXr0_"
      },
      "source": [
        "## Heart Disease Dataset Description\n",
        "\n",
        "The Heart Disease Dataset contains a number of variables that can be used to predict the presence of heart disease in patients. Each attribute potentially contributes information that could be used to determine heart disease risk.\n",
        "\n",
        "### Dataset Features:\n",
        "\n",
        "- **Age**: The patient's age in years.\n",
        "- **Sex**: The patient's sex (1 = male, 0 = female).\n",
        "- **Chest Pain Type**: Type of chest pain experienced (values ranging from 1 to 4).\n",
        "- **Resting Blood Pressure**: Resting blood pressure in mm Hg on admission to the hospital.\n",
        "- **Serum Cholestrol**: Serum cholesterol in mg/dl.\n",
        "- **Fasting Blood Sugar**: Fasting blood sugar > 120 mg/dl (1 = true; 0 = false).\n",
        "- **Resting Electrocardiographic Results**: Resting electrocardiographic results (values 0, 1, 2).\n",
        "- **Maximum Heart Rate Achieved**: Maximum heart rate achieved during thallium stress test.\n",
        "- **Exercise Induced Angina**: Exercise-induced angina (1 = yes; 0 = no).\n",
        "- **ST Depression**: ST depression induced by exercise relative to rest.\n",
        "- **Slope of the Peak Exercise ST Segment**: The slope of the peak exercise ST segment.\n",
        "- **Number of Major Vessels**: Number of major vessels colored by fluoroscopy (0-3).\n",
        "- **Thal**: A blood disorder called thalassemia (3 = normal; 6 = fixed defect; 7 = reversible defect).\n",
        "\n",
        "### Target Variable:\n",
        "\n",
        "- **Heart Disease Presence**: The presence of heart disease (0 = no, 1 = yes).\n",
        "\n",
        "\n"
      ]
    },
    {
      "cell_type": "code",
      "execution_count": null,
      "metadata": {
        "id": "t7gSdDiIzErK",
        "colab": {
          "base_uri": "https://localhost:8080/"
        },
        "outputId": "d99b7455-24f5-4e23-9acd-8a491d88d999"
      },
      "outputs": [
        {
          "output_type": "stream",
          "name": "stdout",
          "text": [
            "Requirement already satisfied: ucimlrepo in /usr/local/lib/python3.10/dist-packages (0.0.3)\n"
          ]
        }
      ],
      "source": [
        "# Load the data set\n",
        "!pip install ucimlrepo\n",
        "\n",
        "from ucimlrepo import fetch_ucirepo\n",
        "import pandas as pd\n",
        "import numpy as np\n",
        "\n",
        "# Fetch dataset\n",
        "heart_disease = fetch_ucirepo(id=45)"
      ]
    },
    {
      "cell_type": "code",
      "source": [
        "# Data (as pandas dataframes)\n",
        "X = heart_disease.data.features\n",
        "y = heart_disease.data.targets\n",
        "\n",
        "# Convert the target variable to binary\n",
        "# 0 indicates no disease, 1 indicates any level of disease\n",
        "y_binary = np.where(y == 0, 0, 1)\n",
        "y_binary_series = pd.Series(y_binary.reshape(-1), name='HeartDisease')\n",
        "# Now, X contains the features and y_binary contains the binary target\n",
        "print(\"X features\")\n",
        "print(X.head())\n",
        "\n",
        "print(\"Y: Heart Disease presence\")\n",
        "print(y_binary_series.head())"
      ],
      "metadata": {
        "colab": {
          "base_uri": "https://localhost:8080/"
        },
        "id": "2cKwal0KXzGy",
        "outputId": "fa96bf91-25ff-463e-ef71-60c62e190cfb"
      },
      "execution_count": null,
      "outputs": [
        {
          "output_type": "stream",
          "name": "stdout",
          "text": [
            "X features\n",
            "   age  sex  cp  trestbps  chol  fbs  restecg  thalach  exang  oldpeak  slope  \\\n",
            "0   63    1   1       145   233    1        2      150      0      2.3      3   \n",
            "1   67    1   4       160   286    0        2      108      1      1.5      2   \n",
            "2   67    1   4       120   229    0        2      129      1      2.6      2   \n",
            "3   37    1   3       130   250    0        0      187      0      3.5      3   \n",
            "4   41    0   2       130   204    0        2      172      0      1.4      1   \n",
            "\n",
            "    ca  thal  \n",
            "0  0.0   6.0  \n",
            "1  3.0   3.0  \n",
            "2  2.0   7.0  \n",
            "3  0.0   3.0  \n",
            "4  0.0   3.0  \n",
            "Y: Heart Disease presence\n",
            "0    0\n",
            "1    1\n",
            "2    1\n",
            "3    0\n",
            "4    0\n",
            "Name: HeartDisease, dtype: int64\n"
          ]
        }
      ]
    },
    {
      "cell_type": "code",
      "source": [
        "heart_disease['variables']"
      ],
      "metadata": {
        "colab": {
          "base_uri": "https://localhost:8080/",
          "height": 488
        },
        "id": "ZDu4u3FMiW7c",
        "outputId": "68f9f84a-9485-4eeb-e24f-d30cf23f1854"
      },
      "execution_count": null,
      "outputs": [
        {
          "output_type": "execute_result",
          "data": {
            "text/plain": [
              "        name     role         type demographic  \\\n",
              "0        age  Feature      Integer         Age   \n",
              "1        sex  Feature  Categorical         Sex   \n",
              "2         cp  Feature  Categorical        None   \n",
              "3   trestbps  Feature      Integer        None   \n",
              "4       chol  Feature      Integer        None   \n",
              "5        fbs  Feature  Categorical        None   \n",
              "6    restecg  Feature  Categorical        None   \n",
              "7    thalach  Feature      Integer        None   \n",
              "8      exang  Feature  Categorical        None   \n",
              "9    oldpeak  Feature      Integer        None   \n",
              "10     slope  Feature  Categorical        None   \n",
              "11        ca  Feature      Integer        None   \n",
              "12      thal  Feature  Categorical        None   \n",
              "13       num   Target      Integer        None   \n",
              "\n",
              "                                          description  units missing_values  \n",
              "0                                                None  years             no  \n",
              "1                                                None   None             no  \n",
              "2                                                None   None             no  \n",
              "3   resting blood pressure (on admission to the ho...  mm Hg             no  \n",
              "4                                   serum cholestoral  mg/dl             no  \n",
              "5                     fasting blood sugar > 120 mg/dl   None             no  \n",
              "6                                                None   None             no  \n",
              "7                         maximum heart rate achieved   None             no  \n",
              "8                             exercise induced angina   None             no  \n",
              "9   ST depression induced by exercise relative to ...   None             no  \n",
              "10                                               None   None             no  \n",
              "11  number of major vessels (0-3) colored by flour...   None            yes  \n",
              "12                                               None   None            yes  \n",
              "13                         diagnosis of heart disease   None             no  "
            ],
            "text/html": [
              "\n",
              "  <div id=\"df-c56620cc-64fe-4ca1-a3a7-a0f63ee7aa6d\" class=\"colab-df-container\">\n",
              "    <div>\n",
              "<style scoped>\n",
              "    .dataframe tbody tr th:only-of-type {\n",
              "        vertical-align: middle;\n",
              "    }\n",
              "\n",
              "    .dataframe tbody tr th {\n",
              "        vertical-align: top;\n",
              "    }\n",
              "\n",
              "    .dataframe thead th {\n",
              "        text-align: right;\n",
              "    }\n",
              "</style>\n",
              "<table border=\"1\" class=\"dataframe\">\n",
              "  <thead>\n",
              "    <tr style=\"text-align: right;\">\n",
              "      <th></th>\n",
              "      <th>name</th>\n",
              "      <th>role</th>\n",
              "      <th>type</th>\n",
              "      <th>demographic</th>\n",
              "      <th>description</th>\n",
              "      <th>units</th>\n",
              "      <th>missing_values</th>\n",
              "    </tr>\n",
              "  </thead>\n",
              "  <tbody>\n",
              "    <tr>\n",
              "      <th>0</th>\n",
              "      <td>age</td>\n",
              "      <td>Feature</td>\n",
              "      <td>Integer</td>\n",
              "      <td>Age</td>\n",
              "      <td>None</td>\n",
              "      <td>years</td>\n",
              "      <td>no</td>\n",
              "    </tr>\n",
              "    <tr>\n",
              "      <th>1</th>\n",
              "      <td>sex</td>\n",
              "      <td>Feature</td>\n",
              "      <td>Categorical</td>\n",
              "      <td>Sex</td>\n",
              "      <td>None</td>\n",
              "      <td>None</td>\n",
              "      <td>no</td>\n",
              "    </tr>\n",
              "    <tr>\n",
              "      <th>2</th>\n",
              "      <td>cp</td>\n",
              "      <td>Feature</td>\n",
              "      <td>Categorical</td>\n",
              "      <td>None</td>\n",
              "      <td>None</td>\n",
              "      <td>None</td>\n",
              "      <td>no</td>\n",
              "    </tr>\n",
              "    <tr>\n",
              "      <th>3</th>\n",
              "      <td>trestbps</td>\n",
              "      <td>Feature</td>\n",
              "      <td>Integer</td>\n",
              "      <td>None</td>\n",
              "      <td>resting blood pressure (on admission to the ho...</td>\n",
              "      <td>mm Hg</td>\n",
              "      <td>no</td>\n",
              "    </tr>\n",
              "    <tr>\n",
              "      <th>4</th>\n",
              "      <td>chol</td>\n",
              "      <td>Feature</td>\n",
              "      <td>Integer</td>\n",
              "      <td>None</td>\n",
              "      <td>serum cholestoral</td>\n",
              "      <td>mg/dl</td>\n",
              "      <td>no</td>\n",
              "    </tr>\n",
              "    <tr>\n",
              "      <th>5</th>\n",
              "      <td>fbs</td>\n",
              "      <td>Feature</td>\n",
              "      <td>Categorical</td>\n",
              "      <td>None</td>\n",
              "      <td>fasting blood sugar &gt; 120 mg/dl</td>\n",
              "      <td>None</td>\n",
              "      <td>no</td>\n",
              "    </tr>\n",
              "    <tr>\n",
              "      <th>6</th>\n",
              "      <td>restecg</td>\n",
              "      <td>Feature</td>\n",
              "      <td>Categorical</td>\n",
              "      <td>None</td>\n",
              "      <td>None</td>\n",
              "      <td>None</td>\n",
              "      <td>no</td>\n",
              "    </tr>\n",
              "    <tr>\n",
              "      <th>7</th>\n",
              "      <td>thalach</td>\n",
              "      <td>Feature</td>\n",
              "      <td>Integer</td>\n",
              "      <td>None</td>\n",
              "      <td>maximum heart rate achieved</td>\n",
              "      <td>None</td>\n",
              "      <td>no</td>\n",
              "    </tr>\n",
              "    <tr>\n",
              "      <th>8</th>\n",
              "      <td>exang</td>\n",
              "      <td>Feature</td>\n",
              "      <td>Categorical</td>\n",
              "      <td>None</td>\n",
              "      <td>exercise induced angina</td>\n",
              "      <td>None</td>\n",
              "      <td>no</td>\n",
              "    </tr>\n",
              "    <tr>\n",
              "      <th>9</th>\n",
              "      <td>oldpeak</td>\n",
              "      <td>Feature</td>\n",
              "      <td>Integer</td>\n",
              "      <td>None</td>\n",
              "      <td>ST depression induced by exercise relative to ...</td>\n",
              "      <td>None</td>\n",
              "      <td>no</td>\n",
              "    </tr>\n",
              "    <tr>\n",
              "      <th>10</th>\n",
              "      <td>slope</td>\n",
              "      <td>Feature</td>\n",
              "      <td>Categorical</td>\n",
              "      <td>None</td>\n",
              "      <td>None</td>\n",
              "      <td>None</td>\n",
              "      <td>no</td>\n",
              "    </tr>\n",
              "    <tr>\n",
              "      <th>11</th>\n",
              "      <td>ca</td>\n",
              "      <td>Feature</td>\n",
              "      <td>Integer</td>\n",
              "      <td>None</td>\n",
              "      <td>number of major vessels (0-3) colored by flour...</td>\n",
              "      <td>None</td>\n",
              "      <td>yes</td>\n",
              "    </tr>\n",
              "    <tr>\n",
              "      <th>12</th>\n",
              "      <td>thal</td>\n",
              "      <td>Feature</td>\n",
              "      <td>Categorical</td>\n",
              "      <td>None</td>\n",
              "      <td>None</td>\n",
              "      <td>None</td>\n",
              "      <td>yes</td>\n",
              "    </tr>\n",
              "    <tr>\n",
              "      <th>13</th>\n",
              "      <td>num</td>\n",
              "      <td>Target</td>\n",
              "      <td>Integer</td>\n",
              "      <td>None</td>\n",
              "      <td>diagnosis of heart disease</td>\n",
              "      <td>None</td>\n",
              "      <td>no</td>\n",
              "    </tr>\n",
              "  </tbody>\n",
              "</table>\n",
              "</div>\n",
              "    <div class=\"colab-df-buttons\">\n",
              "\n",
              "  <div class=\"colab-df-container\">\n",
              "    <button class=\"colab-df-convert\" onclick=\"convertToInteractive('df-c56620cc-64fe-4ca1-a3a7-a0f63ee7aa6d')\"\n",
              "            title=\"Convert this dataframe to an interactive table.\"\n",
              "            style=\"display:none;\">\n",
              "\n",
              "  <svg xmlns=\"http://www.w3.org/2000/svg\" height=\"24px\" viewBox=\"0 -960 960 960\">\n",
              "    <path d=\"M120-120v-720h720v720H120Zm60-500h600v-160H180v160Zm220 220h160v-160H400v160Zm0 220h160v-160H400v160ZM180-400h160v-160H180v160Zm440 0h160v-160H620v160ZM180-180h160v-160H180v160Zm440 0h160v-160H620v160Z\"/>\n",
              "  </svg>\n",
              "    </button>\n",
              "\n",
              "  <style>\n",
              "    .colab-df-container {\n",
              "      display:flex;\n",
              "      gap: 12px;\n",
              "    }\n",
              "\n",
              "    .colab-df-convert {\n",
              "      background-color: #E8F0FE;\n",
              "      border: none;\n",
              "      border-radius: 50%;\n",
              "      cursor: pointer;\n",
              "      display: none;\n",
              "      fill: #1967D2;\n",
              "      height: 32px;\n",
              "      padding: 0 0 0 0;\n",
              "      width: 32px;\n",
              "    }\n",
              "\n",
              "    .colab-df-convert:hover {\n",
              "      background-color: #E2EBFA;\n",
              "      box-shadow: 0px 1px 2px rgba(60, 64, 67, 0.3), 0px 1px 3px 1px rgba(60, 64, 67, 0.15);\n",
              "      fill: #174EA6;\n",
              "    }\n",
              "\n",
              "    .colab-df-buttons div {\n",
              "      margin-bottom: 4px;\n",
              "    }\n",
              "\n",
              "    [theme=dark] .colab-df-convert {\n",
              "      background-color: #3B4455;\n",
              "      fill: #D2E3FC;\n",
              "    }\n",
              "\n",
              "    [theme=dark] .colab-df-convert:hover {\n",
              "      background-color: #434B5C;\n",
              "      box-shadow: 0px 1px 3px 1px rgba(0, 0, 0, 0.15);\n",
              "      filter: drop-shadow(0px 1px 2px rgba(0, 0, 0, 0.3));\n",
              "      fill: #FFFFFF;\n",
              "    }\n",
              "  </style>\n",
              "\n",
              "    <script>\n",
              "      const buttonEl =\n",
              "        document.querySelector('#df-c56620cc-64fe-4ca1-a3a7-a0f63ee7aa6d button.colab-df-convert');\n",
              "      buttonEl.style.display =\n",
              "        google.colab.kernel.accessAllowed ? 'block' : 'none';\n",
              "\n",
              "      async function convertToInteractive(key) {\n",
              "        const element = document.querySelector('#df-c56620cc-64fe-4ca1-a3a7-a0f63ee7aa6d');\n",
              "        const dataTable =\n",
              "          await google.colab.kernel.invokeFunction('convertToInteractive',\n",
              "                                                    [key], {});\n",
              "        if (!dataTable) return;\n",
              "\n",
              "        const docLinkHtml = 'Like what you see? Visit the ' +\n",
              "          '<a target=\"_blank\" href=https://colab.research.google.com/notebooks/data_table.ipynb>data table notebook</a>'\n",
              "          + ' to learn more about interactive tables.';\n",
              "        element.innerHTML = '';\n",
              "        dataTable['output_type'] = 'display_data';\n",
              "        await google.colab.output.renderOutput(dataTable, element);\n",
              "        const docLink = document.createElement('div');\n",
              "        docLink.innerHTML = docLinkHtml;\n",
              "        element.appendChild(docLink);\n",
              "      }\n",
              "    </script>\n",
              "  </div>\n",
              "\n",
              "\n",
              "<div id=\"df-80dfca5d-743d-4777-b268-fec05d7c9d47\">\n",
              "  <button class=\"colab-df-quickchart\" onclick=\"quickchart('df-80dfca5d-743d-4777-b268-fec05d7c9d47')\"\n",
              "            title=\"Suggest charts\"\n",
              "            style=\"display:none;\">\n",
              "\n",
              "<svg xmlns=\"http://www.w3.org/2000/svg\" height=\"24px\"viewBox=\"0 0 24 24\"\n",
              "     width=\"24px\">\n",
              "    <g>\n",
              "        <path d=\"M19 3H5c-1.1 0-2 .9-2 2v14c0 1.1.9 2 2 2h14c1.1 0 2-.9 2-2V5c0-1.1-.9-2-2-2zM9 17H7v-7h2v7zm4 0h-2V7h2v10zm4 0h-2v-4h2v4z\"/>\n",
              "    </g>\n",
              "</svg>\n",
              "  </button>\n",
              "\n",
              "<style>\n",
              "  .colab-df-quickchart {\n",
              "      --bg-color: #E8F0FE;\n",
              "      --fill-color: #1967D2;\n",
              "      --hover-bg-color: #E2EBFA;\n",
              "      --hover-fill-color: #174EA6;\n",
              "      --disabled-fill-color: #AAA;\n",
              "      --disabled-bg-color: #DDD;\n",
              "  }\n",
              "\n",
              "  [theme=dark] .colab-df-quickchart {\n",
              "      --bg-color: #3B4455;\n",
              "      --fill-color: #D2E3FC;\n",
              "      --hover-bg-color: #434B5C;\n",
              "      --hover-fill-color: #FFFFFF;\n",
              "      --disabled-bg-color: #3B4455;\n",
              "      --disabled-fill-color: #666;\n",
              "  }\n",
              "\n",
              "  .colab-df-quickchart {\n",
              "    background-color: var(--bg-color);\n",
              "    border: none;\n",
              "    border-radius: 50%;\n",
              "    cursor: pointer;\n",
              "    display: none;\n",
              "    fill: var(--fill-color);\n",
              "    height: 32px;\n",
              "    padding: 0;\n",
              "    width: 32px;\n",
              "  }\n",
              "\n",
              "  .colab-df-quickchart:hover {\n",
              "    background-color: var(--hover-bg-color);\n",
              "    box-shadow: 0 1px 2px rgba(60, 64, 67, 0.3), 0 1px 3px 1px rgba(60, 64, 67, 0.15);\n",
              "    fill: var(--button-hover-fill-color);\n",
              "  }\n",
              "\n",
              "  .colab-df-quickchart-complete:disabled,\n",
              "  .colab-df-quickchart-complete:disabled:hover {\n",
              "    background-color: var(--disabled-bg-color);\n",
              "    fill: var(--disabled-fill-color);\n",
              "    box-shadow: none;\n",
              "  }\n",
              "\n",
              "  .colab-df-spinner {\n",
              "    border: 2px solid var(--fill-color);\n",
              "    border-color: transparent;\n",
              "    border-bottom-color: var(--fill-color);\n",
              "    animation:\n",
              "      spin 1s steps(1) infinite;\n",
              "  }\n",
              "\n",
              "  @keyframes spin {\n",
              "    0% {\n",
              "      border-color: transparent;\n",
              "      border-bottom-color: var(--fill-color);\n",
              "      border-left-color: var(--fill-color);\n",
              "    }\n",
              "    20% {\n",
              "      border-color: transparent;\n",
              "      border-left-color: var(--fill-color);\n",
              "      border-top-color: var(--fill-color);\n",
              "    }\n",
              "    30% {\n",
              "      border-color: transparent;\n",
              "      border-left-color: var(--fill-color);\n",
              "      border-top-color: var(--fill-color);\n",
              "      border-right-color: var(--fill-color);\n",
              "    }\n",
              "    40% {\n",
              "      border-color: transparent;\n",
              "      border-right-color: var(--fill-color);\n",
              "      border-top-color: var(--fill-color);\n",
              "    }\n",
              "    60% {\n",
              "      border-color: transparent;\n",
              "      border-right-color: var(--fill-color);\n",
              "    }\n",
              "    80% {\n",
              "      border-color: transparent;\n",
              "      border-right-color: var(--fill-color);\n",
              "      border-bottom-color: var(--fill-color);\n",
              "    }\n",
              "    90% {\n",
              "      border-color: transparent;\n",
              "      border-bottom-color: var(--fill-color);\n",
              "    }\n",
              "  }\n",
              "</style>\n",
              "\n",
              "  <script>\n",
              "    async function quickchart(key) {\n",
              "      const quickchartButtonEl =\n",
              "        document.querySelector('#' + key + ' button');\n",
              "      quickchartButtonEl.disabled = true;  // To prevent multiple clicks.\n",
              "      quickchartButtonEl.classList.add('colab-df-spinner');\n",
              "      try {\n",
              "        const charts = await google.colab.kernel.invokeFunction(\n",
              "            'suggestCharts', [key], {});\n",
              "      } catch (error) {\n",
              "        console.error('Error during call to suggestCharts:', error);\n",
              "      }\n",
              "      quickchartButtonEl.classList.remove('colab-df-spinner');\n",
              "      quickchartButtonEl.classList.add('colab-df-quickchart-complete');\n",
              "    }\n",
              "    (() => {\n",
              "      let quickchartButtonEl =\n",
              "        document.querySelector('#df-80dfca5d-743d-4777-b268-fec05d7c9d47 button');\n",
              "      quickchartButtonEl.style.display =\n",
              "        google.colab.kernel.accessAllowed ? 'block' : 'none';\n",
              "    })();\n",
              "  </script>\n",
              "</div>\n",
              "    </div>\n",
              "  </div>\n"
            ]
          },
          "metadata": {},
          "execution_count": 16
        }
      ]
    },
    {
      "cell_type": "code",
      "execution_count": null,
      "metadata": {
        "colab": {
          "base_uri": "https://localhost:8080/"
        },
        "id": "JEeDx7_SMd8O",
        "outputId": "c3cd4454-1c13-4f5c-bc68-0ad23e664443"
      },
      "outputs": [
        {
          "output_type": "stream",
          "name": "stdout",
          "text": [
            "age              0\n",
            "sex              0\n",
            "cp               0\n",
            "trestbps         0\n",
            "chol             0\n",
            "fbs              0\n",
            "restecg          0\n",
            "thalach          0\n",
            "exang            0\n",
            "oldpeak          0\n",
            "slope            0\n",
            "ca               4\n",
            "thal             2\n",
            "binary_series    0\n",
            "dtype: int64\n",
            "age              0\n",
            "sex              0\n",
            "cp               0\n",
            "trestbps         0\n",
            "chol             0\n",
            "fbs              0\n",
            "restecg          0\n",
            "thalach          0\n",
            "exang            0\n",
            "oldpeak          0\n",
            "slope            0\n",
            "ca               0\n",
            "thal             0\n",
            "binary_series    0\n",
            "dtype: int64\n",
            "(303, 14)\n",
            "(297, 14)\n",
            "     age  sex  cp  trestbps  chol  fbs  restecg  thalach  exang  oldpeak  \\\n",
            "0     63    1   1       145   233    1        2      150      0      2.3   \n",
            "1     67    1   4       160   286    0        2      108      1      1.5   \n",
            "2     67    1   4       120   229    0        2      129      1      2.6   \n",
            "3     37    1   3       130   250    0        0      187      0      3.5   \n",
            "4     41    0   2       130   204    0        2      172      0      1.4   \n",
            "..   ...  ...  ..       ...   ...  ...      ...      ...    ...      ...   \n",
            "292   57    0   4       140   241    0        0      123      1      0.2   \n",
            "293   45    1   1       110   264    0        0      132      0      1.2   \n",
            "294   68    1   4       144   193    1        0      141      0      3.4   \n",
            "295   57    1   4       130   131    0        0      115      1      1.2   \n",
            "296   57    0   2       130   236    0        2      174      0      0.0   \n",
            "\n",
            "     slope   ca  thal  \n",
            "0        3  0.0   6.0  \n",
            "1        2  3.0   3.0  \n",
            "2        2  2.0   7.0  \n",
            "3        3  0.0   3.0  \n",
            "4        1  0.0   3.0  \n",
            "..     ...  ...   ...  \n",
            "292      2  0.0   7.0  \n",
            "293      2  0.0   7.0  \n",
            "294      2  2.0   7.0  \n",
            "295      2  1.0   7.0  \n",
            "296      2  1.0   3.0  \n",
            "\n",
            "[297 rows x 13 columns]\n",
            "0      0\n",
            "1      1\n",
            "2      1\n",
            "3      0\n",
            "4      0\n",
            "      ..\n",
            "292    1\n",
            "293    1\n",
            "294    1\n",
            "295    1\n",
            "296    1\n",
            "Name: binary_series, Length: 297, dtype: int64\n"
          ]
        },
        {
          "output_type": "execute_result",
          "data": {
            "text/plain": [
              "(297,)"
            ]
          },
          "metadata": {},
          "execution_count": 17
        }
      ],
      "source": [
        "# Handling missing values (ex- by removing rows with missing data)\n",
        "\n",
        "#Adding the Series to the DataFrame\n",
        "X['binary_series'] = y_binary_series\n",
        "\n",
        "#Detecting missing values\n",
        "print(X.isnull().sum())\n",
        "#Dropping missing values\n",
        "X_clean = X.dropna()\n",
        "\n",
        "X_clean.reset_index(drop=True, inplace=True)\n",
        "\n",
        "print(X_clean.isnull().sum())\n",
        "# Since 'y' (targets) do not have missing values, they can be used as is\n",
        "# However, ensure that the rows in 'y' correspond to the rows in the cleaned 'X'\n",
        "print(X.shape)\n",
        "print(X_clean.shape)\n",
        "\n",
        "#Assigning X and Y seperately again\n",
        "y_binary_clean = X_clean['binary_series']\n",
        "X_clean = X_clean.drop('binary_series', axis=1)\n",
        "\n",
        "print(X_clean)\n",
        "print(y_binary_clean)\n",
        "y_binary_clean.shape"
      ]
    },
    {
      "cell_type": "markdown",
      "metadata": {
        "id": "8MVch-0-owrH"
      },
      "source": [
        "Data preprocessing (Standardize the features, one-hot encoding, lable encoding)"
      ]
    },
    {
      "cell_type": "markdown",
      "source": [
        "**Standardization** is not typically required for decision trees, including Random Forest, because these algorithms make decisions based on splitting points and do not rely on the scale of the features. Decision trees work by recursively partitioning the data based on feature thresholds, and the scale of features does not impact the algorithm's performance.\n",
        "\n",
        "Additionally, we trained a model with standardization and we were getting worse results than we are getting now. Hence, we are not standardizing the numerical variables in our dataset.\n",
        "\n",
        "**One Hot Encoding** is carried out when the order of the categorical data does not matter. In this case, '*slope*', '*cp*', and '*thal*' are the categorical variables which have been one hot encoded because they don't have an inherent order in their reponse.\n",
        "\n",
        "For variables, '*sex*', '*fbs*', and '*exang*' there is just 0 and 1 so one hot encoding is not required.\n",
        "\n",
        "Whereas, for the variable '*restecg*' the categories are:\n",
        "\n",
        "*  0: Normal\n",
        "*  1: ST-T wave abnormality\n",
        "*  2: Probable or definite left ventricular hypertrophy\n",
        "\n",
        "Since there is an inherent order in these categories (normal < ST-T wave abnormality < left ventricular hypertrophy), one-hot encoding may not be the most appropriate choice. Instead, we consider **label encoding** for this variable. Label encoding will assign integer values to each category, preserving the order.\n"
      ],
      "metadata": {
        "id": "voZfhqu7Qvbe"
      }
    },
    {
      "cell_type": "code",
      "execution_count": null,
      "metadata": {
        "id": "wShbdeiWomoY",
        "colab": {
          "base_uri": "https://localhost:8080/"
        },
        "outputId": "1ee53e60-0887-4d56-d36a-0495e0c2b70b"
      },
      "outputs": [
        {
          "output_type": "stream",
          "name": "stdout",
          "text": [
            "     age  sex  trestbps  chol  fbs  restecg  thalach  exang  oldpeak   ca  \\\n",
            "0     63    1       145   233    1        2      150      0      2.3  0.0   \n",
            "1     67    1       160   286    0        2      108      1      1.5  3.0   \n",
            "2     67    1       120   229    0        2      129      1      2.6  2.0   \n",
            "3     37    1       130   250    0        0      187      0      3.5  0.0   \n",
            "4     41    0       130   204    0        2      172      0      1.4  0.0   \n",
            "..   ...  ...       ...   ...  ...      ...      ...    ...      ...  ...   \n",
            "292   57    0       140   241    0        0      123      1      0.2  0.0   \n",
            "293   45    1       110   264    0        0      132      0      1.2  0.0   \n",
            "294   68    1       144   193    1        0      141      0      3.4  2.0   \n",
            "295   57    1       130   131    0        0      115      1      1.2  1.0   \n",
            "296   57    0       130   236    0        2      174      0      0.0  1.0   \n",
            "\n",
            "     cp_2  cp_3  cp_4  slope_2  slope_3  thal_6.0  thal_7.0  \n",
            "0     0.0   0.0   0.0      0.0      1.0       1.0       0.0  \n",
            "1     0.0   0.0   1.0      1.0      0.0       0.0       0.0  \n",
            "2     0.0   0.0   1.0      1.0      0.0       0.0       1.0  \n",
            "3     0.0   1.0   0.0      0.0      1.0       0.0       0.0  \n",
            "4     1.0   0.0   0.0      0.0      0.0       0.0       0.0  \n",
            "..    ...   ...   ...      ...      ...       ...       ...  \n",
            "292   0.0   0.0   1.0      1.0      0.0       0.0       1.0  \n",
            "293   0.0   0.0   0.0      1.0      0.0       0.0       1.0  \n",
            "294   0.0   0.0   1.0      1.0      0.0       0.0       1.0  \n",
            "295   0.0   0.0   1.0      1.0      0.0       0.0       1.0  \n",
            "296   1.0   0.0   0.0      1.0      0.0       0.0       0.0  \n",
            "\n",
            "[297 rows x 17 columns]\n"
          ]
        },
        {
          "output_type": "stream",
          "name": "stderr",
          "text": [
            "/usr/local/lib/python3.10/dist-packages/sklearn/preprocessing/_encoders.py:868: FutureWarning: `sparse` was renamed to `sparse_output` in version 1.2 and will be removed in 1.4. `sparse_output` is ignored unless you leave `sparse` to its default value.\n",
            "  warnings.warn(\n"
          ]
        }
      ],
      "source": [
        "import pandas as pd\n",
        "from sklearn.preprocessing import StandardScaler, OneHotEncoder\n",
        "from sklearn.compose import ColumnTransformer\n",
        "\n",
        "X_cat = X_clean[['cp','slope','thal']]\n",
        "encoder = OneHotEncoder(drop='first',sparse=False)\n",
        "X_cat_encoded = encoder.fit_transform(X_cat)\n",
        "X_encoded_df = pd.DataFrame(X_cat_encoded, columns=encoder.get_feature_names_out(X_cat.columns))\n",
        "\n",
        "cat_vars = ['cp','slope','thal']\n",
        "X = pd.concat([X_clean.drop(cat_vars, axis=1),X_encoded_df],axis=1)\n",
        "print(X)"
      ]
    },
    {
      "cell_type": "markdown",
      "metadata": {
        "id": "6RSaaaHgr8Cd"
      },
      "source": [
        "Splitting training data into training and validation set (the code has been provided)"
      ]
    },
    {
      "cell_type": "code",
      "execution_count": null,
      "metadata": {
        "id": "3DzsHi6ir9IK",
        "colab": {
          "base_uri": "https://localhost:8080/"
        },
        "outputId": "99088c5f-f493-420d-e4cb-c62121623c3b"
      },
      "outputs": [
        {
          "output_type": "stream",
          "name": "stdout",
          "text": [
            "X_train shape: (207, 17)\n",
            "X_validation shape: (90, 17)\n",
            "y_train shape: (207,)\n",
            "y_validation shape: (90,)\n"
          ]
        }
      ],
      "source": [
        "from sklearn.model_selection import train_test_split\n",
        "X_train, X_val, y_train, y_val = train_test_split(X, y_binary_clean, test_size = 0.3, random_state=20)\n",
        "\n",
        "print(\"X_train shape:\", X_train.shape)\n",
        "print(\"X_validation shape:\", X_val.shape)\n",
        "print(\"y_train shape:\", y_train.shape)\n",
        "print(\"y_validation shape:\", y_val.shape)"
      ]
    },
    {
      "cell_type": "markdown",
      "metadata": {
        "id": "LXXOovbrsa2k"
      },
      "source": [
        "### Decision Tree\n",
        "From sklearn.tree use DecisionTreeClassifier to build a classification model with default parameters."
      ]
    },
    {
      "cell_type": "code",
      "execution_count": null,
      "metadata": {
        "id": "nqYXkEHDscGu",
        "colab": {
          "base_uri": "https://localhost:8080/",
          "height": 74
        },
        "outputId": "47efdedd-5dd5-4a0c-d070-0bd1dc772684"
      },
      "outputs": [
        {
          "output_type": "execute_result",
          "data": {
            "text/plain": [
              "DecisionTreeClassifier(random_state=30)"
            ],
            "text/html": [
              "<style>#sk-container-id-3 {color: black;background-color: white;}#sk-container-id-3 pre{padding: 0;}#sk-container-id-3 div.sk-toggleable {background-color: white;}#sk-container-id-3 label.sk-toggleable__label {cursor: pointer;display: block;width: 100%;margin-bottom: 0;padding: 0.3em;box-sizing: border-box;text-align: center;}#sk-container-id-3 label.sk-toggleable__label-arrow:before {content: \"▸\";float: left;margin-right: 0.25em;color: #696969;}#sk-container-id-3 label.sk-toggleable__label-arrow:hover:before {color: black;}#sk-container-id-3 div.sk-estimator:hover label.sk-toggleable__label-arrow:before {color: black;}#sk-container-id-3 div.sk-toggleable__content {max-height: 0;max-width: 0;overflow: hidden;text-align: left;background-color: #f0f8ff;}#sk-container-id-3 div.sk-toggleable__content pre {margin: 0.2em;color: black;border-radius: 0.25em;background-color: #f0f8ff;}#sk-container-id-3 input.sk-toggleable__control:checked~div.sk-toggleable__content {max-height: 200px;max-width: 100%;overflow: auto;}#sk-container-id-3 input.sk-toggleable__control:checked~label.sk-toggleable__label-arrow:before {content: \"▾\";}#sk-container-id-3 div.sk-estimator input.sk-toggleable__control:checked~label.sk-toggleable__label {background-color: #d4ebff;}#sk-container-id-3 div.sk-label input.sk-toggleable__control:checked~label.sk-toggleable__label {background-color: #d4ebff;}#sk-container-id-3 input.sk-hidden--visually {border: 0;clip: rect(1px 1px 1px 1px);clip: rect(1px, 1px, 1px, 1px);height: 1px;margin: -1px;overflow: hidden;padding: 0;position: absolute;width: 1px;}#sk-container-id-3 div.sk-estimator {font-family: monospace;background-color: #f0f8ff;border: 1px dotted black;border-radius: 0.25em;box-sizing: border-box;margin-bottom: 0.5em;}#sk-container-id-3 div.sk-estimator:hover {background-color: #d4ebff;}#sk-container-id-3 div.sk-parallel-item::after {content: \"\";width: 100%;border-bottom: 1px solid gray;flex-grow: 1;}#sk-container-id-3 div.sk-label:hover label.sk-toggleable__label {background-color: #d4ebff;}#sk-container-id-3 div.sk-serial::before {content: \"\";position: absolute;border-left: 1px solid gray;box-sizing: border-box;top: 0;bottom: 0;left: 50%;z-index: 0;}#sk-container-id-3 div.sk-serial {display: flex;flex-direction: column;align-items: center;background-color: white;padding-right: 0.2em;padding-left: 0.2em;position: relative;}#sk-container-id-3 div.sk-item {position: relative;z-index: 1;}#sk-container-id-3 div.sk-parallel {display: flex;align-items: stretch;justify-content: center;background-color: white;position: relative;}#sk-container-id-3 div.sk-item::before, #sk-container-id-3 div.sk-parallel-item::before {content: \"\";position: absolute;border-left: 1px solid gray;box-sizing: border-box;top: 0;bottom: 0;left: 50%;z-index: -1;}#sk-container-id-3 div.sk-parallel-item {display: flex;flex-direction: column;z-index: 1;position: relative;background-color: white;}#sk-container-id-3 div.sk-parallel-item:first-child::after {align-self: flex-end;width: 50%;}#sk-container-id-3 div.sk-parallel-item:last-child::after {align-self: flex-start;width: 50%;}#sk-container-id-3 div.sk-parallel-item:only-child::after {width: 0;}#sk-container-id-3 div.sk-dashed-wrapped {border: 1px dashed gray;margin: 0 0.4em 0.5em 0.4em;box-sizing: border-box;padding-bottom: 0.4em;background-color: white;}#sk-container-id-3 div.sk-label label {font-family: monospace;font-weight: bold;display: inline-block;line-height: 1.2em;}#sk-container-id-3 div.sk-label-container {text-align: center;}#sk-container-id-3 div.sk-container {/* jupyter's `normalize.less` sets `[hidden] { display: none; }` but bootstrap.min.css set `[hidden] { display: none !important; }` so we also need the `!important` here to be able to override the default hidden behavior on the sphinx rendered scikit-learn.org. See: https://github.com/scikit-learn/scikit-learn/issues/21755 */display: inline-block !important;position: relative;}#sk-container-id-3 div.sk-text-repr-fallback {display: none;}</style><div id=\"sk-container-id-3\" class=\"sk-top-container\"><div class=\"sk-text-repr-fallback\"><pre>DecisionTreeClassifier(random_state=30)</pre><b>In a Jupyter environment, please rerun this cell to show the HTML representation or trust the notebook. <br />On GitHub, the HTML representation is unable to render, please try loading this page with nbviewer.org.</b></div><div class=\"sk-container\" hidden><div class=\"sk-item\"><div class=\"sk-estimator sk-toggleable\"><input class=\"sk-toggleable__control sk-hidden--visually\" id=\"sk-estimator-id-3\" type=\"checkbox\" checked><label for=\"sk-estimator-id-3\" class=\"sk-toggleable__label sk-toggleable__label-arrow\">DecisionTreeClassifier</label><div class=\"sk-toggleable__content\"><pre>DecisionTreeClassifier(random_state=30)</pre></div></div></div></div></div>"
            ]
          },
          "metadata": {},
          "execution_count": 27
        }
      ],
      "source": [
        "from sklearn.tree import DecisionTreeClassifier\n",
        "### Fit the classifier on the training data\n",
        "# Please set random_state=30\n",
        "### WRITE CODE HERE ###\n",
        "\n",
        "#Initializing the classifier\n",
        "dt_classifier = DecisionTreeClassifier(random_state = 30)\n",
        "\n",
        "#Fit classifier on training data\n",
        "dt_classifier.fit(X_train, y_train)"
      ]
    },
    {
      "cell_type": "code",
      "execution_count": null,
      "metadata": {
        "id": "g1z_pShQtcUX"
      },
      "outputs": [],
      "source": [
        "### Make predictions on the training data\n",
        "\n",
        "### WRITE CODE HERE ###\n",
        "y_pred = dt_classifier.predict(X_train)"
      ]
    },
    {
      "cell_type": "code",
      "source": [
        "from sklearn.metrics import accuracy_score, precision_score, recall_score\n",
        "\n",
        "def evaluate_classification(y_true, y_pred):\n",
        "    \"\"\"\n",
        "    Calculate accuracy, precision, and recall for a classification model.\n",
        "\n",
        "    Parameters:\n",
        "    - y_true: Actual labels\n",
        "    - y_pred: Predicted labels\n",
        "\n",
        "    Returns:\n",
        "    - accuracy: Accuracy of the model\n",
        "    - precision: Precision of the model\n",
        "    - recall: Recall of the model\n",
        "    \"\"\"\n",
        "\n",
        "    # Calculate accuracy\n",
        "    accuracy = accuracy_score(y_true, y_pred)\n",
        "\n",
        "    # Calculate precision\n",
        "    precision = precision_score(y_true, y_pred, average='weighted')\n",
        "\n",
        "    # Calculate recall\n",
        "    recall = recall_score(y_true, y_pred, average='weighted')\n",
        "\n",
        "    return accuracy, precision, recall"
      ],
      "metadata": {
        "id": "jBTh2NE_Y1bV"
      },
      "execution_count": null,
      "outputs": []
    },
    {
      "cell_type": "markdown",
      "metadata": {
        "id": "kPp2cIUMuS4p"
      },
      "source": [
        "Print accuracy, precision and recall for the predictions made on the training data."
      ]
    },
    {
      "cell_type": "code",
      "execution_count": null,
      "metadata": {
        "id": "CpqQd8W0ayP_",
        "colab": {
          "base_uri": "https://localhost:8080/"
        },
        "outputId": "a50fc779-41d5-43b8-b028-0fde55e9e535"
      },
      "outputs": [
        {
          "output_type": "stream",
          "name": "stdout",
          "text": [
            "Accuracy: 1.0000\n",
            "Precision: 1.0000\n",
            "Recall: 1.0000\n"
          ]
        }
      ],
      "source": [
        "# Print accuracy, precision and recall for the predictions made on the training data.\n",
        "accuracy, precision, recall = evaluate_classification(y_train, y_pred)\n",
        "\n",
        "print(f'Accuracy: {accuracy:.4f}')\n",
        "print(f'Precision: {precision:.4f}')\n",
        "print(f'Recall: {recall:.4f}')"
      ]
    },
    {
      "cell_type": "code",
      "execution_count": null,
      "metadata": {
        "id": "QHx99fcqvA9R"
      },
      "outputs": [],
      "source": [
        "### Make predictions on the validation data\n",
        "### WRITE CODE HERE ###\n",
        "\n",
        "y_pred_val = dt_classifier.predict(X_val)"
      ]
    },
    {
      "cell_type": "markdown",
      "metadata": {
        "id": "-77rKnkXvTs0"
      },
      "source": [
        "Print accuracy, prediction and recall for the predictions made on the validation data."
      ]
    },
    {
      "cell_type": "code",
      "execution_count": null,
      "metadata": {
        "id": "2e_HZneYva4d",
        "colab": {
          "base_uri": "https://localhost:8080/"
        },
        "outputId": "66414adb-d976-4315-b8f7-75fd3a942538"
      },
      "outputs": [
        {
          "output_type": "stream",
          "name": "stdout",
          "text": [
            "Accuracy: 0.7222\n",
            "Precision: 0.7233\n",
            "Recall: 0.7222\n"
          ]
        }
      ],
      "source": [
        "### WRITE CODE HERE ###\n",
        "\n",
        "accuracy, precision, recall = evaluate_classification(y_val, y_pred_val)\n",
        "\n",
        "print(f'Accuracy: {accuracy:.4f}')\n",
        "print(f'Precision: {precision:.4f}')\n",
        "print(f'Recall: {recall:.4f}')"
      ]
    },
    {
      "cell_type": "markdown",
      "metadata": {
        "id": "xwIDnQCmvvqj"
      },
      "source": [
        "Plot ROC curve and obtain AUC for predictions on the validation data."
      ]
    },
    {
      "cell_type": "code",
      "execution_count": null,
      "metadata": {
        "id": "L9ZqUWdXv7D5",
        "colab": {
          "base_uri": "https://localhost:8080/",
          "height": 564
        },
        "outputId": "4dbebc7e-4a2c-4d49-e9d9-fa5cf1d887e8"
      },
      "outputs": [
        {
          "output_type": "display_data",
          "data": {
            "text/plain": [
              "<Figure size 800x600 with 1 Axes>"
            ],
            "image/png": "[encoded data removed]"
          },
          "metadata": {}
        }
      ],
      "source": [
        "# Plot the ROC curve by giving appropriate names for title and axes.\n",
        "\n",
        "### WRITE CODE HERE\n",
        "\n",
        "from sklearn.metrics import roc_curve, roc_auc_score\n",
        "import sklearn.metrics as metrics\n",
        "import matplotlib.pyplot as plt\n",
        "\n",
        "\n",
        "#Predicting probabilities for positive class\n",
        "y_probs = dt_classifier.predict_proba(X_val)[:,1]\n",
        "\n",
        "#Calculating the ROC curve\n",
        "fpr, tpr, threshold = roc_curve(y_val, y_probs)\n",
        "\n",
        "#Calculating AUC value\n",
        "auc_value = roc_auc_score(y_val, y_probs)\n",
        "\n",
        "#Plotting the ROC curve\n",
        "plt.figure(figsize = (8,6))\n",
        "plt.plot(fpr, tpr, color='blue', label=f'AUC = {auc_value:.2f}')\n",
        "#Adding the random classifier\n",
        "plt.plot([0, 1], [0,1], linestyle = '--', color = 'gray', label='Random')\n",
        "plt.title('ROC Curve')\n",
        "plt.xlabel('False Positive Rate (FPR)')\n",
        "plt.ylabel('True Positive Rate (TPR)')\n",
        "plt.legend()\n",
        "plt.show()"
      ]
    },
    {
      "cell_type": "markdown",
      "metadata": {
        "id": "EHY7zX-LwNA-"
      },
      "source": [
        "Q. Based on the scores for training set and validation set, explain the performance of the above model in terms of bias and variance.<br>\n",
        "\n",
        "Ans -"
      ]
    },
    {
      "cell_type": "markdown",
      "metadata": {
        "id": "Gn_lR52Hwb0V"
      },
      "source": [
        "### Random Forest\n",
        "\n",
        "\n",
        "Decision Trees have low predictive power compared to other methods due to high variance. Random Forest increases prediction power at the expense of decreased interpretability.\n",
        "\n",
        "\n",
        "From sklearn.ensemble use RandomForestClassifier to build a classification model with default parameters."
      ]
    },
    {
      "cell_type": "code",
      "execution_count": null,
      "metadata": {
        "id": "V11dWNRLwjfr",
        "colab": {
          "base_uri": "https://localhost:8080/",
          "height": 74
        },
        "outputId": "169272ea-a158-43d0-c3ca-5231e0a11672"
      },
      "outputs": [
        {
          "output_type": "execute_result",
          "data": {
            "text/plain": [
              "RandomForestClassifier(random_state=30)"
            ],
            "text/html": [
              "<style>#sk-container-id-4 {color: black;background-color: white;}#sk-container-id-4 pre{padding: 0;}#sk-container-id-4 div.sk-toggleable {background-color: white;}#sk-container-id-4 label.sk-toggleable__label {cursor: pointer;display: block;width: 100%;margin-bottom: 0;padding: 0.3em;box-sizing: border-box;text-align: center;}#sk-container-id-4 label.sk-toggleable__label-arrow:before {content: \"▸\";float: left;margin-right: 0.25em;color: #696969;}#sk-container-id-4 label.sk-toggleable__label-arrow:hover:before {color: black;}#sk-container-id-4 div.sk-estimator:hover label.sk-toggleable__label-arrow:before {color: black;}#sk-container-id-4 div.sk-toggleable__content {max-height: 0;max-width: 0;overflow: hidden;text-align: left;background-color: #f0f8ff;}#sk-container-id-4 div.sk-toggleable__content pre {margin: 0.2em;color: black;border-radius: 0.25em;background-color: #f0f8ff;}#sk-container-id-4 input.sk-toggleable__control:checked~div.sk-toggleable__content {max-height: 200px;max-width: 100%;overflow: auto;}#sk-container-id-4 input.sk-toggleable__control:checked~label.sk-toggleable__label-arrow:before {content: \"▾\";}#sk-container-id-4 div.sk-estimator input.sk-toggleable__control:checked~label.sk-toggleable__label {background-color: #d4ebff;}#sk-container-id-4 div.sk-label input.sk-toggleable__control:checked~label.sk-toggleable__label {background-color: #d4ebff;}#sk-container-id-4 input.sk-hidden--visually {border: 0;clip: rect(1px 1px 1px 1px);clip: rect(1px, 1px, 1px, 1px);height: 1px;margin: -1px;overflow: hidden;padding: 0;position: absolute;width: 1px;}#sk-container-id-4 div.sk-estimator {font-family: monospace;background-color: #f0f8ff;border: 1px dotted black;border-radius: 0.25em;box-sizing: border-box;margin-bottom: 0.5em;}#sk-container-id-4 div.sk-estimator:hover {background-color: #d4ebff;}#sk-container-id-4 div.sk-parallel-item::after {content: \"\";width: 100%;border-bottom: 1px solid gray;flex-grow: 1;}#sk-container-id-4 div.sk-label:hover label.sk-toggleable__label {background-color: #d4ebff;}#sk-container-id-4 div.sk-serial::before {content: \"\";position: absolute;border-left: 1px solid gray;box-sizing: border-box;top: 0;bottom: 0;left: 50%;z-index: 0;}#sk-container-id-4 div.sk-serial {display: flex;flex-direction: column;align-items: center;background-color: white;padding-right: 0.2em;padding-left: 0.2em;position: relative;}#sk-container-id-4 div.sk-item {position: relative;z-index: 1;}#sk-container-id-4 div.sk-parallel {display: flex;align-items: stretch;justify-content: center;background-color: white;position: relative;}#sk-container-id-4 div.sk-item::before, #sk-container-id-4 div.sk-parallel-item::before {content: \"\";position: absolute;border-left: 1px solid gray;box-sizing: border-box;top: 0;bottom: 0;left: 50%;z-index: -1;}#sk-container-id-4 div.sk-parallel-item {display: flex;flex-direction: column;z-index: 1;position: relative;background-color: white;}#sk-container-id-4 div.sk-parallel-item:first-child::after {align-self: flex-end;width: 50%;}#sk-container-id-4 div.sk-parallel-item:last-child::after {align-self: flex-start;width: 50%;}#sk-container-id-4 div.sk-parallel-item:only-child::after {width: 0;}#sk-container-id-4 div.sk-dashed-wrapped {border: 1px dashed gray;margin: 0 0.4em 0.5em 0.4em;box-sizing: border-box;padding-bottom: 0.4em;background-color: white;}#sk-container-id-4 div.sk-label label {font-family: monospace;font-weight: bold;display: inline-block;line-height: 1.2em;}#sk-container-id-4 div.sk-label-container {text-align: center;}#sk-container-id-4 div.sk-container {/* jupyter's `normalize.less` sets `[hidden] { display: none; }` but bootstrap.min.css set `[hidden] { display: none !important; }` so we also need the `!important` here to be able to override the default hidden behavior on the sphinx rendered scikit-learn.org. See: https://github.com/scikit-learn/scikit-learn/issues/21755 */display: inline-block !important;position: relative;}#sk-container-id-4 div.sk-text-repr-fallback {display: none;}</style><div id=\"sk-container-id-4\" class=\"sk-top-container\"><div class=\"sk-text-repr-fallback\"><pre>RandomForestClassifier(random_state=30)</pre><b>In a Jupyter environment, please rerun this cell to show the HTML representation or trust the notebook. <br />On GitHub, the HTML representation is unable to render, please try loading this page with nbviewer.org.</b></div><div class=\"sk-container\" hidden><div class=\"sk-item\"><div class=\"sk-estimator sk-toggleable\"><input class=\"sk-toggleable__control sk-hidden--visually\" id=\"sk-estimator-id-4\" type=\"checkbox\" checked><label for=\"sk-estimator-id-4\" class=\"sk-toggleable__label sk-toggleable__label-arrow\">RandomForestClassifier</label><div class=\"sk-toggleable__content\"><pre>RandomForestClassifier(random_state=30)</pre></div></div></div></div></div>"
            ]
          },
          "metadata": {},
          "execution_count": 34
        }
      ],
      "source": [
        "from sklearn.ensemble import RandomForestClassifier\n",
        "### Fit the classifier on the training data\n",
        "# Please set random_state=30\n",
        "### WRITE CODE HERE ###\n",
        "\n",
        "#Initialize the classifier\n",
        "rf_classifier = RandomForestClassifier(random_state = 30)\n",
        "\n",
        "#Fit classifier on the training data\n",
        "rf_classifier.fit(X_train, y_train)"
      ]
    },
    {
      "cell_type": "code",
      "execution_count": null,
      "metadata": {
        "id": "xYomCX4nw1yq"
      },
      "outputs": [],
      "source": [
        "### Make predictions on the training data\n",
        "### WRITE CODE HERE ###\n",
        "y_pred_rf = rf_classifier.predict(X_train)"
      ]
    },
    {
      "cell_type": "markdown",
      "metadata": {
        "id": "Q3wmGe-G1O4h"
      },
      "source": [
        "Print accuracy, precision and recall for the predictions made on the training data."
      ]
    },
    {
      "cell_type": "code",
      "execution_count": null,
      "metadata": {
        "id": "l_OUtD0Tbu0K",
        "colab": {
          "base_uri": "https://localhost:8080/"
        },
        "outputId": "172915ca-a3f5-4d06-94b7-6e75d1b92f9a"
      },
      "outputs": [
        {
          "output_type": "stream",
          "name": "stdout",
          "text": [
            "Accuracy: 1.0000\n",
            "Precision: 1.0000\n",
            "Recall: 1.0000\n"
          ]
        }
      ],
      "source": [
        "accuracy, precision, recall = evaluate_classification(y_train, y_pred_rf)\n",
        "\n",
        "print(f'Accuracy: {accuracy:.4f}')\n",
        "print(f'Precision: {precision:.4f}')\n",
        "print(f'Recall: {recall:.4f}')"
      ]
    },
    {
      "cell_type": "code",
      "execution_count": null,
      "metadata": {
        "id": "k9WwHw3S1qvG"
      },
      "outputs": [],
      "source": [
        "### Make predictions on the validation data\n",
        "### WRITE CODE HERE ###\n",
        "y_pred_val_rf = rf_classifier.predict(X_val)"
      ]
    },
    {
      "cell_type": "markdown",
      "metadata": {
        "id": "Uq399RNb1tBH"
      },
      "source": [
        "Print accuracy, prediction and recall for the predictions made on the validation data."
      ]
    },
    {
      "cell_type": "code",
      "execution_count": null,
      "metadata": {
        "id": "1eDc8z5H1y8i",
        "colab": {
          "base_uri": "https://localhost:8080/"
        },
        "outputId": "184d73c6-03b9-4dc3-92a5-da2d6edc3cd8"
      },
      "outputs": [
        {
          "output_type": "stream",
          "name": "stdout",
          "text": [
            "Accuracy: 0.8222\n",
            "Precision: 0.8272\n",
            "Recall: 0.8222\n"
          ]
        }
      ],
      "source": [
        "### WRITE CODE HERE ###\n",
        "accuracy, precision, recall = evaluate_classification(y_val, y_pred_val_rf)\n",
        "\n",
        "print(f'Accuracy: {accuracy:.4f}')\n",
        "print(f'Precision: {precision:.4f}')\n",
        "print(f'Recall: {recall:.4f}')"
      ]
    },
    {
      "cell_type": "markdown",
      "metadata": {
        "id": "5-aEzhnY31GG"
      },
      "source": [
        "Plot ROC curve and obtain AUC for the validation predictions"
      ]
    },
    {
      "cell_type": "code",
      "execution_count": null,
      "metadata": {
        "id": "YBtxdmDa33fJ",
        "colab": {
          "base_uri": "https://localhost:8080/",
          "height": 564
        },
        "outputId": "28ca3a2d-3c48-4ecb-dd18-4bbd08bcefb8"
      },
      "outputs": [
        {
          "output_type": "display_data",
          "data": {
            "text/plain": [
              "<Figure size 800x600 with 1 Axes>"
            ],
            "image/png": "[encoded data removed]"
          },
          "metadata": {}
        }
      ],
      "source": [
        "# Plot the ROC curve by giving appropriate names for title and axes.\n",
        "\n",
        "### WRITE CODE HERE\n",
        "\n",
        "from sklearn.metrics import roc_curve\n",
        "import sklearn.metrics as metrics\n",
        "import matplotlib.pyplot as plt\n",
        "\n",
        "#Predicting proabilities for positive class\n",
        "y_probs_rf = rf_classifier.predict_proba(X_val)[:, 1]\n",
        "\n",
        "#Calculate ROC curve\n",
        "fpr, tpr, thresholds = roc_curve(y_val, y_probs_rf)\n",
        "\n",
        "#Calculate AUC value\n",
        "auc_value = roc_auc_score(y_val, y_probs_rf)\n",
        "\n",
        "#Plot ROC curve\n",
        "plt.figure(figsize = (8,6))\n",
        "plt.plot(fpr, tpr, color='blue', label=f'AUC = {auc_value:.2f}')\n",
        "plt.plot([0, 1], [0,1], linestyle='--', color = 'gray', label = 'Random')\n",
        "plt.title('ROC Curve')\n",
        "plt.xlabel('False Positive Rate')\n",
        "plt.ylabel('True Positive Rate')\n",
        "plt.legend()\n",
        "plt.show()"
      ]
    },
    {
      "cell_type": "markdown",
      "metadata": {
        "id": "fcld7NGV4GU_"
      },
      "source": [
        "Q. Based on the scores for training set and validation set, explain the performance of the above model in terms of bias and variance. Is the Random Forest model better or worse than the Decision Tree model? Explain why you think the performance may have improved or deteriorated.\n",
        "\n",
        "Ans-"
      ]
    },
    {
      "cell_type": "markdown",
      "metadata": {
        "id": "IY8Pzi-B4WAz"
      },
      "source": [
        "## Hyperparameters\n",
        "\n",
        "\"Model tuning\" refers to model adjustments to better fit the data, which is separate from \"fitting\" or \"training\" the model.\n",
        "\n",
        "There are aspects of some models that are user specified. For example, when using a random forest (which is basically an ensemble of decision trees), it is probably a good idea to choose the right number of underlying trees. Too many and the model might overfit, and too few and the model might not be able to properly learn the data. Parameters such as these are referred to as \"hyperparameters\" or \"free parameters\", as the values for these are determined by the user and not the algorithm.\n",
        "\n",
        "A quick and efficient way to optimize hyperparameters is to perform Grid Search over different values of the parameters."
      ]
    },
    {
      "cell_type": "code",
      "execution_count": null,
      "metadata": {
        "id": "vH6HzdEB5JLP"
      },
      "outputs": [],
      "source": [
        "from sklearn.model_selection import GridSearchCV"
      ]
    },
    {
      "cell_type": "code",
      "execution_count": null,
      "metadata": {
        "id": "9qQPsqjm5Mfb",
        "colab": {
          "base_uri": "https://localhost:8080/"
        },
        "outputId": "30c90e75-8fc7-4fbd-9fd7-655dc27062d7"
      },
      "outputs": [
        {
          "output_type": "stream",
          "name": "stdout",
          "text": [
            "{'max_depth': [2, 4, 10, None], 'max_features': ['sqrt'], 'min_samples_leaf': [1, 2, 4], 'min_samples_split': [2, 5, 10], 'n_estimators': [10, 31, 52, 73, 94, 115, 136, 157, 178, 200]}\n"
          ]
        }
      ],
      "source": [
        "# In the below dictionary, fill in the list of values that you want to try out for each parameter\n",
        "# Refer to the descriptions in sklearn.ensemble.RandomForestClassifier's doc to understand what the parameters depict\n",
        "\n",
        "#Setting up the hyperparameter grid\n",
        "param_grid = {\n",
        "    'max_depth': [2,4,10,None], #Maximum number of levels in the tree\n",
        "    'max_features': ['sqrt'], #Number of features to consider at every split\n",
        "    'min_samples_leaf': [1, 2, 4], #Minimum number of samples required at each leaf node\n",
        "    'min_samples_split': [2, 5, 10], #Minimum number of samples required to split a node\n",
        "    'n_estimators': [int(x) for x in np.linspace(start = 10, stop = 200, num = 10)] #Number of trees in random forest\n",
        "}\n",
        "print(param_grid)"
      ]
    },
    {
      "cell_type": "markdown",
      "source": [
        "'n_estimators' - Number of trees in the forest, higher number of trees generally improves the model performance but also increases computational cost.\n",
        "\n",
        "'max_depth' - The maximum depth of the trees in the forest. Deeper trees may capture more complex relationships but are more prone to overfitting.\n",
        "\n",
        "'min_samples_split' - It represents the minimum number of samples needed to split an internal node before declaring the node as a terminal leaf.\n",
        "\n",
        "'min_samples_leaf' - Controls the minimum number of samples required to be a leaf node i.e. a terminal node or a decision"
      ],
      "metadata": {
        "id": "R0olqCelkHTQ"
      }
    },
    {
      "cell_type": "code",
      "execution_count": null,
      "metadata": {
        "id": "8bIILs6ZdKzk"
      },
      "outputs": [],
      "source": [
        "#Define the random forest classifier\n",
        "rf = RandomForestClassifier(random_state=30)"
      ]
    },
    {
      "cell_type": "code",
      "execution_count": null,
      "metadata": {
        "id": "pwKYkjAM510B"
      },
      "outputs": [],
      "source": [
        "#Create the Grid Search Object\n",
        "grid_search = GridSearchCV(estimator = rf, scoring='recall', param_grid = param_grid,\n",
        "                          cv = 3, n_jobs = -1, verbose = 2)\n",
        "\n",
        "#Verbose controls the amt of info printed during the grid search\n",
        "# 2 - Display a progress bar and the estimated time remaining for each combination\n",
        "\n",
        "#n_jobs controls the number of parallel jobs to run during the grid search\n",
        "# Any positive number is the specified number of processors."
      ]
    },
    {
      "cell_type": "code",
      "execution_count": null,
      "metadata": {
        "id": "adfXnU4qBuKj",
        "colab": {
          "base_uri": "https://localhost:8080/",
          "height": 134
        },
        "outputId": "aa7c9fed-5394-4c52-b71f-6e5f5638e081"
      },
      "outputs": [
        {
          "output_type": "stream",
          "name": "stdout",
          "text": [
            "Fitting 3 folds for each of 360 candidates, totalling 1080 fits\n"
          ]
        },
        {
          "output_type": "execute_result",
          "data": {
            "text/plain": [
              "GridSearchCV(cv=3, estimator=RandomForestClassifier(random_state=30), n_jobs=-1,\n",
              "             param_grid={'max_depth': [2, 4, 10, None],\n",
              "                         'max_features': ['sqrt'],\n",
              "                         'min_samples_leaf': [1, 2, 4],\n",
              "                         'min_samples_split': [2, 5, 10],\n",
              "                         'n_estimators': [10, 31, 52, 73, 94, 115, 136, 157,\n",
              "                                          178, 200]},\n",
              "             scoring='recall', verbose=2)"
            ],
            "text/html": [
              "<style>#sk-container-id-7 {color: black;background-color: white;}#sk-container-id-7 pre{padding: 0;}#sk-container-id-7 div.sk-toggleable {background-color: white;}#sk-container-id-7 label.sk-toggleable__label {cursor: pointer;display: block;width: 100%;margin-bottom: 0;padding: 0.3em;box-sizing: border-box;text-align: center;}#sk-container-id-7 label.sk-toggleable__label-arrow:before {content: \"▸\";float: left;margin-right: 0.25em;color: #696969;}#sk-container-id-7 label.sk-toggleable__label-arrow:hover:before {color: black;}#sk-container-id-7 div.sk-estimator:hover label.sk-toggleable__label-arrow:before {color: black;}#sk-container-id-7 div.sk-toggleable__content {max-height: 0;max-width: 0;overflow: hidden;text-align: left;background-color: #f0f8ff;}#sk-container-id-7 div.sk-toggleable__content pre {margin: 0.2em;color: black;border-radius: 0.25em;background-color: #f0f8ff;}#sk-container-id-7 input.sk-toggleable__control:checked~div.sk-toggleable__content {max-height: 200px;max-width: 100%;overflow: auto;}#sk-container-id-7 input.sk-toggleable__control:checked~label.sk-toggleable__label-arrow:before {content: \"▾\";}#sk-container-id-7 div.sk-estimator input.sk-toggleable__control:checked~label.sk-toggleable__label {background-color: #d4ebff;}#sk-container-id-7 div.sk-label input.sk-toggleable__control:checked~label.sk-toggleable__label {background-color: #d4ebff;}#sk-container-id-7 input.sk-hidden--visually {border: 0;clip: rect(1px 1px 1px 1px);clip: rect(1px, 1px, 1px, 1px);height: 1px;margin: -1px;overflow: hidden;padding: 0;position: absolute;width: 1px;}#sk-container-id-7 div.sk-estimator {font-family: monospace;background-color: #f0f8ff;border: 1px dotted black;border-radius: 0.25em;box-sizing: border-box;margin-bottom: 0.5em;}#sk-container-id-7 div.sk-estimator:hover {background-color: #d4ebff;}#sk-container-id-7 div.sk-parallel-item::after {content: \"\";width: 100%;border-bottom: 1px solid gray;flex-grow: 1;}#sk-container-id-7 div.sk-label:hover label.sk-toggleable__label {background-color: #d4ebff;}#sk-container-id-7 div.sk-serial::before {content: \"\";position: absolute;border-left: 1px solid gray;box-sizing: border-box;top: 0;bottom: 0;left: 50%;z-index: 0;}#sk-container-id-7 div.sk-serial {display: flex;flex-direction: column;align-items: center;background-color: white;padding-right: 0.2em;padding-left: 0.2em;position: relative;}#sk-container-id-7 div.sk-item {position: relative;z-index: 1;}#sk-container-id-7 div.sk-parallel {display: flex;align-items: stretch;justify-content: center;background-color: white;position: relative;}#sk-container-id-7 div.sk-item::before, #sk-container-id-7 div.sk-parallel-item::before {content: \"\";position: absolute;border-left: 1px solid gray;box-sizing: border-box;top: 0;bottom: 0;left: 50%;z-index: -1;}#sk-container-id-7 div.sk-parallel-item {display: flex;flex-direction: column;z-index: 1;position: relative;background-color: white;}#sk-container-id-7 div.sk-parallel-item:first-child::after {align-self: flex-end;width: 50%;}#sk-container-id-7 div.sk-parallel-item:last-child::after {align-self: flex-start;width: 50%;}#sk-container-id-7 div.sk-parallel-item:only-child::after {width: 0;}#sk-container-id-7 div.sk-dashed-wrapped {border: 1px dashed gray;margin: 0 0.4em 0.5em 0.4em;box-sizing: border-box;padding-bottom: 0.4em;background-color: white;}#sk-container-id-7 div.sk-label label {font-family: monospace;font-weight: bold;display: inline-block;line-height: 1.2em;}#sk-container-id-7 div.sk-label-container {text-align: center;}#sk-container-id-7 div.sk-container {/* jupyter's `normalize.less` sets `[hidden] { display: none; }` but bootstrap.min.css set `[hidden] { display: none !important; }` so we also need the `!important` here to be able to override the default hidden behavior on the sphinx rendered scikit-learn.org. See: https://github.com/scikit-learn/scikit-learn/issues/21755 */display: inline-block !important;position: relative;}#sk-container-id-7 div.sk-text-repr-fallback {display: none;}</style><div id=\"sk-container-id-7\" class=\"sk-top-container\"><div class=\"sk-text-repr-fallback\"><pre>GridSearchCV(cv=3, estimator=RandomForestClassifier(random_state=30), n_jobs=-1,\n",
              "             param_grid={&#x27;max_depth&#x27;: [2, 4, 10, None],\n",
              "                         &#x27;max_features&#x27;: [&#x27;sqrt&#x27;],\n",
              "                         &#x27;min_samples_leaf&#x27;: [1, 2, 4],\n",
              "                         &#x27;min_samples_split&#x27;: [2, 5, 10],\n",
              "                         &#x27;n_estimators&#x27;: [10, 31, 52, 73, 94, 115, 136, 157,\n",
              "                                          178, 200]},\n",
              "             scoring=&#x27;recall&#x27;, verbose=2)</pre><b>In a Jupyter environment, please rerun this cell to show the HTML representation or trust the notebook. <br />On GitHub, the HTML representation is unable to render, please try loading this page with nbviewer.org.</b></div><div class=\"sk-container\" hidden><div class=\"sk-item sk-dashed-wrapped\"><div class=\"sk-label-container\"><div class=\"sk-label sk-toggleable\"><input class=\"sk-toggleable__control sk-hidden--visually\" id=\"sk-estimator-id-11\" type=\"checkbox\" ><label for=\"sk-estimator-id-11\" class=\"sk-toggleable__label sk-toggleable__label-arrow\">GridSearchCV</label><div class=\"sk-toggleable__content\"><pre>GridSearchCV(cv=3, estimator=RandomForestClassifier(random_state=30), n_jobs=-1,\n",
              "             param_grid={&#x27;max_depth&#x27;: [2, 4, 10, None],\n",
              "                         &#x27;max_features&#x27;: [&#x27;sqrt&#x27;],\n",
              "                         &#x27;min_samples_leaf&#x27;: [1, 2, 4],\n",
              "                         &#x27;min_samples_split&#x27;: [2, 5, 10],\n",
              "                         &#x27;n_estimators&#x27;: [10, 31, 52, 73, 94, 115, 136, 157,\n",
              "                                          178, 200]},\n",
              "             scoring=&#x27;recall&#x27;, verbose=2)</pre></div></div></div><div class=\"sk-parallel\"><div class=\"sk-parallel-item\"><div class=\"sk-item\"><div class=\"sk-label-container\"><div class=\"sk-label sk-toggleable\"><input class=\"sk-toggleable__control sk-hidden--visually\" id=\"sk-estimator-id-12\" type=\"checkbox\" ><label for=\"sk-estimator-id-12\" class=\"sk-toggleable__label sk-toggleable__label-arrow\">estimator: RandomForestClassifier</label><div class=\"sk-toggleable__content\"><pre>RandomForestClassifier(random_state=30)</pre></div></div></div><div class=\"sk-serial\"><div class=\"sk-item\"><div class=\"sk-estimator sk-toggleable\"><input class=\"sk-toggleable__control sk-hidden--visually\" id=\"sk-estimator-id-13\" type=\"checkbox\" ><label for=\"sk-estimator-id-13\" class=\"sk-toggleable__label sk-toggleable__label-arrow\">RandomForestClassifier</label><div class=\"sk-toggleable__content\"><pre>RandomForestClassifier(random_state=30)</pre></div></div></div></div></div></div></div></div></div></div>"
            ]
          },
          "metadata": {},
          "execution_count": 75
        }
      ],
      "source": [
        "### Fit on the training data with all sets of parameters.\n",
        "### WRITE CODE HERE ###\n",
        "grid_search.fit(X_train, y_train)"
      ]
    },
    {
      "cell_type": "markdown",
      "metadata": {
        "id": "Ebakm868CRn0"
      },
      "source": [
        "Display the parameters of the best model."
      ]
    },
    {
      "cell_type": "code",
      "execution_count": null,
      "metadata": {
        "id": "1hXn1Bx3CMQG",
        "colab": {
          "base_uri": "https://localhost:8080/"
        },
        "outputId": "48e95c94-3350-4e7d-b23b-bde78ca89527"
      },
      "outputs": [
        {
          "output_type": "stream",
          "name": "stdout",
          "text": [
            "{'max_depth': 2, 'max_features': 'sqrt', 'min_samples_leaf': 4, 'min_samples_split': 2, 'n_estimators': 73}\n"
          ]
        }
      ],
      "source": [
        "# Print the best parameters\n",
        "### WRITE CODE HERE ###\n",
        "best_params = grid_search.best_params_\n",
        "print(best_params)\n",
        "\n",
        "#Get the best model\n",
        "best_rf_classifier = grid_search.best_estimator_"
      ]
    },
    {
      "cell_type": "code",
      "source": [
        "#Parameter values previously\n",
        "rf_classifier.get_params()"
      ],
      "metadata": {
        "colab": {
          "base_uri": "https://localhost:8080/"
        },
        "id": "Doy-z92UznJo",
        "outputId": "996a9674-1178-4437-90cc-6eb98f6b7e9c"
      },
      "execution_count": null,
      "outputs": [
        {
          "output_type": "execute_result",
          "data": {
            "text/plain": [
              "{'bootstrap': True,\n",
              " 'ccp_alpha': 0.0,\n",
              " 'class_weight': None,\n",
              " 'criterion': 'gini',\n",
              " 'max_depth': None,\n",
              " 'max_features': 'sqrt',\n",
              " 'max_leaf_nodes': None,\n",
              " 'max_samples': None,\n",
              " 'min_impurity_decrease': 0.0,\n",
              " 'min_samples_leaf': 1,\n",
              " 'min_samples_split': 2,\n",
              " 'min_weight_fraction_leaf': 0.0,\n",
              " 'n_estimators': 100,\n",
              " 'n_jobs': None,\n",
              " 'oob_score': False,\n",
              " 'random_state': 30,\n",
              " 'verbose': 0,\n",
              " 'warm_start': False}"
            ]
          },
          "metadata": {},
          "execution_count": 81
        }
      ]
    },
    {
      "cell_type": "code",
      "execution_count": null,
      "metadata": {
        "id": "VFZfOfsZCXTD",
        "colab": {
          "base_uri": "https://localhost:8080/"
        },
        "outputId": "7ebec6c3-817d-4f0b-c80c-1f3666d2fe9d"
      },
      "outputs": [
        {
          "output_type": "stream",
          "name": "stdout",
          "text": [
            "Best Score: 0.8182\n"
          ]
        }
      ],
      "source": [
        "# Print the best score\n",
        "best_score = grid_search.best_score_\n",
        "\n",
        "print(f'Best Score: {best_score:.4f}')"
      ]
    },
    {
      "cell_type": "code",
      "execution_count": null,
      "metadata": {
        "id": "xf-7OQJCCq56",
        "colab": {
          "base_uri": "https://localhost:8080/"
        },
        "outputId": "15dbc1f3-f488-4020-b082-da0e7c6ed369"
      },
      "outputs": [
        {
          "output_type": "stream",
          "name": "stdout",
          "text": [
            "Accuracy on Training set: 0.8551\n",
            "Precision on Training set: 0.8567\n",
            "Recall on Training set: 0.8551\n",
            "\n",
            "Accuracy on Validation set: 0.8333\n",
            "Precision on Validation set: 0.8403\n",
            "Recall on Validation set: 0.8333\n"
          ]
        }
      ],
      "source": [
        "### Using the best model, do the following:\n",
        "### Make predictions on the training set and display accuracy, precision and recall.\n",
        "### Make predictions on the validation set and display accuracy, precision and recall.\n",
        "\n",
        "### Using the best model, do the following:\n",
        "### Make predictions on the training set and display accuracy, precision and recall.\n",
        "### WRITE CODE HERE ###\n",
        "y_pred_rf = best_rf_classifier.predict(X_train)\n",
        "\n",
        "accuracy, precision, recall = evaluate_classification(y_train, y_pred_rf)\n",
        "\n",
        "print(f'Accuracy on Training set: {accuracy:.4f}')\n",
        "print(f'Precision on Training set: {precision:.4f}')\n",
        "print(f'Recall on Training set: {recall:.4f}\\n')\n",
        "\n",
        "### Make predictions on the validation set and display accuracy, precision and recall.\n",
        "### WRITE CODE HERE ###\n",
        "y_pred_val_rf = best_rf_classifier.predict(X_val)\n",
        "\n",
        "accuracy, precision, recall = evaluate_classification(y_val, y_pred_val_rf)\n",
        "\n",
        "print(f'Accuracy on Validation set: {accuracy:.4f}')\n",
        "print(f'Precision on Validation set: {precision:.4f}')\n",
        "print(f'Recall on Validation set: {recall:.4f}')\n"
      ]
    },
    {
      "cell_type": "markdown",
      "source": [
        "The hyperparameters are now tuned so the model is not overfitting anymore and so we don't get a perfect score."
      ],
      "metadata": {
        "id": "AFd7bdG4zQhA"
      }
    },
    {
      "cell_type": "code",
      "execution_count": null,
      "metadata": {
        "id": "M5m5sQo-GEbr",
        "colab": {
          "base_uri": "https://localhost:8080/",
          "height": 564
        },
        "outputId": "8d44b27e-58b1-4726-a4e4-d445bcc46a3f"
      },
      "outputs": [
        {
          "output_type": "display_data",
          "data": {
            "text/plain": [
              "<Figure size 800x600 with 1 Axes>"
            ],
            "image/png": "[encoded data removed]"
          },
          "metadata": {}
        }
      ],
      "source": [
        "# Plot the ROC curve on validation set by giving appropriate names for title and axes.\n",
        "\n",
        "### WRITE CODE HERE\n",
        "\n",
        "#Predicting proabilities for positive class\n",
        "y_probs_rf = best_rf_classifier.predict_proba(X_val)[:, 1]\n",
        "\n",
        "#Calculate ROC curve\n",
        "fpr, tpr, thresholds = roc_curve(y_val, y_probs_rf)\n",
        "\n",
        "#Calculate AUC value\n",
        "auc_value = roc_auc_score(y_val, y_probs_rf)\n",
        "\n",
        "#Plot ROC curve\n",
        "plt.figure(figsize = (8,6))\n",
        "plt.plot(fpr, tpr, color='blue', label=f'AUC = {auc_value:.2f}')\n",
        "plt.plot([0, 1], [0,1], linestyle='--', color = 'gray', label = 'Random')\n",
        "plt.title('ROC Curve for the Best Model')\n",
        "plt.xlabel('False Positive Rate')\n",
        "plt.ylabel('True Positive Rate')\n",
        "plt.legend()\n",
        "plt.show()"
      ]
    },
    {
      "cell_type": "markdown",
      "metadata": {
        "id": "HBadZ4KuMd8T"
      },
      "source": []
    }
  ],
  "metadata": {
    "colab": {
      "provenance": [],
      "include_colab_link": true
    },
    "kernelspec": {
      "display_name": "Python 3",
      "name": "python3"
    },
    "language_info": {
      "name": "python"
    }
  },
  "nbformat": 4,
  "nbformat_minor": 0
}